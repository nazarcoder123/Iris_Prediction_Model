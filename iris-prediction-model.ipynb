{
 "cells": [
  {
   "cell_type": "code",
   "execution_count": 1,
   "id": "f082422f",
   "metadata": {
    "execution": {
     "iopub.execute_input": "2023-05-15T08:54:28.339370Z",
     "iopub.status.busy": "2023-05-15T08:54:28.338845Z",
     "iopub.status.idle": "2023-05-15T08:54:29.549957Z",
     "shell.execute_reply": "2023-05-15T08:54:29.548838Z"
    },
    "papermill": {
     "duration": 1.2284,
     "end_time": "2023-05-15T08:54:29.552541",
     "exception": false,
     "start_time": "2023-05-15T08:54:28.324141",
     "status": "completed"
    },
    "tags": []
   },
   "outputs": [
    {
     "name": "stderr",
     "output_type": "stream",
     "text": [
      "/opt/conda/lib/python3.10/site-packages/scipy/__init__.py:146: UserWarning: A NumPy version >=1.16.5 and <1.23.0 is required for this version of SciPy (detected version 1.23.5\n",
      "  warnings.warn(f\"A NumPy version >={np_minversion} and <{np_maxversion}\"\n"
     ]
    }
   ],
   "source": [
    "import numpy as np\n",
    "import pandas as pd\n",
    "import matplotlib.pyplot as plt\n",
    "import seaborn as sns"
   ]
  },
  {
   "cell_type": "code",
   "execution_count": 2,
   "id": "40f79f73",
   "metadata": {
    "execution": {
     "iopub.execute_input": "2023-05-15T08:54:29.576070Z",
     "iopub.status.busy": "2023-05-15T08:54:29.575161Z",
     "iopub.status.idle": "2023-05-15T08:54:30.113446Z",
     "shell.execute_reply": "2023-05-15T08:54:30.112400Z"
    },
    "papermill": {
     "duration": 0.553007,
     "end_time": "2023-05-15T08:54:30.116216",
     "exception": false,
     "start_time": "2023-05-15T08:54:29.563209",
     "status": "completed"
    },
    "tags": []
   },
   "outputs": [],
   "source": [
    "df = sns.load_dataset(\"iris\")"
   ]
  },
  {
   "cell_type": "code",
   "execution_count": 3,
   "id": "54a8f027",
   "metadata": {
    "execution": {
     "iopub.execute_input": "2023-05-15T08:54:30.139629Z",
     "iopub.status.busy": "2023-05-15T08:54:30.138962Z",
     "iopub.status.idle": "2023-05-15T08:54:30.168142Z",
     "shell.execute_reply": "2023-05-15T08:54:30.167067Z"
    },
    "papermill": {
     "duration": 0.043703,
     "end_time": "2023-05-15T08:54:30.170608",
     "exception": false,
     "start_time": "2023-05-15T08:54:30.126905",
     "status": "completed"
    },
    "tags": []
   },
   "outputs": [
    {
     "data": {
      "text/html": [
       "<div>\n",
       "<style scoped>\n",
       "    .dataframe tbody tr th:only-of-type {\n",
       "        vertical-align: middle;\n",
       "    }\n",
       "\n",
       "    .dataframe tbody tr th {\n",
       "        vertical-align: top;\n",
       "    }\n",
       "\n",
       "    .dataframe thead th {\n",
       "        text-align: right;\n",
       "    }\n",
       "</style>\n",
       "<table border=\"1\" class=\"dataframe\">\n",
       "  <thead>\n",
       "    <tr style=\"text-align: right;\">\n",
       "      <th></th>\n",
       "      <th>sepal_length</th>\n",
       "      <th>sepal_width</th>\n",
       "      <th>petal_length</th>\n",
       "      <th>petal_width</th>\n",
       "      <th>species</th>\n",
       "    </tr>\n",
       "  </thead>\n",
       "  <tbody>\n",
       "    <tr>\n",
       "      <th>0</th>\n",
       "      <td>5.1</td>\n",
       "      <td>3.5</td>\n",
       "      <td>1.4</td>\n",
       "      <td>0.2</td>\n",
       "      <td>setosa</td>\n",
       "    </tr>\n",
       "    <tr>\n",
       "      <th>1</th>\n",
       "      <td>4.9</td>\n",
       "      <td>3.0</td>\n",
       "      <td>1.4</td>\n",
       "      <td>0.2</td>\n",
       "      <td>setosa</td>\n",
       "    </tr>\n",
       "    <tr>\n",
       "      <th>2</th>\n",
       "      <td>4.7</td>\n",
       "      <td>3.2</td>\n",
       "      <td>1.3</td>\n",
       "      <td>0.2</td>\n",
       "      <td>setosa</td>\n",
       "    </tr>\n",
       "    <tr>\n",
       "      <th>3</th>\n",
       "      <td>4.6</td>\n",
       "      <td>3.1</td>\n",
       "      <td>1.5</td>\n",
       "      <td>0.2</td>\n",
       "      <td>setosa</td>\n",
       "    </tr>\n",
       "    <tr>\n",
       "      <th>4</th>\n",
       "      <td>5.0</td>\n",
       "      <td>3.6</td>\n",
       "      <td>1.4</td>\n",
       "      <td>0.2</td>\n",
       "      <td>setosa</td>\n",
       "    </tr>\n",
       "  </tbody>\n",
       "</table>\n",
       "</div>"
      ],
      "text/plain": [
       "   sepal_length  sepal_width  petal_length  petal_width species\n",
       "0           5.1          3.5           1.4          0.2  setosa\n",
       "1           4.9          3.0           1.4          0.2  setosa\n",
       "2           4.7          3.2           1.3          0.2  setosa\n",
       "3           4.6          3.1           1.5          0.2  setosa\n",
       "4           5.0          3.6           1.4          0.2  setosa"
      ]
     },
     "execution_count": 3,
     "metadata": {},
     "output_type": "execute_result"
    }
   ],
   "source": [
    "df.head()"
   ]
  },
  {
   "cell_type": "code",
   "execution_count": 4,
   "id": "5d8eaf83",
   "metadata": {
    "execution": {
     "iopub.execute_input": "2023-05-15T08:54:30.193594Z",
     "iopub.status.busy": "2023-05-15T08:54:30.193218Z",
     "iopub.status.idle": "2023-05-15T08:54:30.199450Z",
     "shell.execute_reply": "2023-05-15T08:54:30.198384Z"
    },
    "papermill": {
     "duration": 0.02014,
     "end_time": "2023-05-15T08:54:30.201409",
     "exception": false,
     "start_time": "2023-05-15T08:54:30.181269",
     "status": "completed"
    },
    "tags": []
   },
   "outputs": [
    {
     "data": {
      "text/plain": [
       "(150, 5)"
      ]
     },
     "execution_count": 4,
     "metadata": {},
     "output_type": "execute_result"
    }
   ],
   "source": [
    "df.shape"
   ]
  },
  {
   "cell_type": "code",
   "execution_count": 5,
   "id": "1c9794f2",
   "metadata": {
    "execution": {
     "iopub.execute_input": "2023-05-15T08:54:30.225260Z",
     "iopub.status.busy": "2023-05-15T08:54:30.224647Z",
     "iopub.status.idle": "2023-05-15T08:54:30.235200Z",
     "shell.execute_reply": "2023-05-15T08:54:30.234313Z"
    },
    "papermill": {
     "duration": 0.025115,
     "end_time": "2023-05-15T08:54:30.237164",
     "exception": false,
     "start_time": "2023-05-15T08:54:30.212049",
     "status": "completed"
    },
    "tags": []
   },
   "outputs": [
    {
     "data": {
      "text/plain": [
       "sepal_length    0\n",
       "sepal_width     0\n",
       "petal_length    0\n",
       "petal_width     0\n",
       "species         0\n",
       "dtype: int64"
      ]
     },
     "execution_count": 5,
     "metadata": {},
     "output_type": "execute_result"
    }
   ],
   "source": [
    "df.isnull().sum()"
   ]
  },
  {
   "cell_type": "code",
   "execution_count": 6,
   "id": "6b44758f",
   "metadata": {
    "execution": {
     "iopub.execute_input": "2023-05-15T08:54:30.260784Z",
     "iopub.status.busy": "2023-05-15T08:54:30.260416Z",
     "iopub.status.idle": "2023-05-15T08:54:30.266770Z",
     "shell.execute_reply": "2023-05-15T08:54:30.265667Z"
    },
    "papermill": {
     "duration": 0.020741,
     "end_time": "2023-05-15T08:54:30.268721",
     "exception": false,
     "start_time": "2023-05-15T08:54:30.247980",
     "status": "completed"
    },
    "tags": []
   },
   "outputs": [],
   "source": [
    "y = df.iloc[:,0:4]"
   ]
  },
  {
   "cell_type": "code",
   "execution_count": 7,
   "id": "52237e0b",
   "metadata": {
    "execution": {
     "iopub.execute_input": "2023-05-15T08:54:30.292581Z",
     "iopub.status.busy": "2023-05-15T08:54:30.291898Z",
     "iopub.status.idle": "2023-05-15T08:54:30.518982Z",
     "shell.execute_reply": "2023-05-15T08:54:30.517775Z"
    },
    "papermill": {
     "duration": 0.24171,
     "end_time": "2023-05-15T08:54:30.521356",
     "exception": false,
     "start_time": "2023-05-15T08:54:30.279646",
     "status": "completed"
    },
    "tags": []
   },
   "outputs": [
    {
     "data": {
      "image/png": "[encoded data removed]",
      "text/plain": [
       "<Figure size 640x480 with 1 Axes>"
      ]
     },
     "metadata": {},
     "output_type": "display_data"
    }
   ],
   "source": [
    "sns.boxplot(y)\n",
    "plt.show()"
   ]
  },
  {
   "cell_type": "markdown",
   "id": "91d88757",
   "metadata": {
    "papermill": {
     "duration": 0.011064,
     "end_time": "2023-05-15T08:54:30.543856",
     "exception": false,
     "start_time": "2023-05-15T08:54:30.532792",
     "status": "completed"
    },
    "tags": []
   },
   "source": [
    "## From the above data we can clearly see that There is no outliers except in \"sepal_width\"\n",
    "## so let's figure out sepal_width"
   ]
  },
  {
   "cell_type": "code",
   "execution_count": 8,
   "id": "e7fe6f18",
   "metadata": {
    "execution": {
     "iopub.execute_input": "2023-05-15T08:54:30.568720Z",
     "iopub.status.busy": "2023-05-15T08:54:30.568329Z",
     "iopub.status.idle": "2023-05-15T08:54:30.716609Z",
     "shell.execute_reply": "2023-05-15T08:54:30.715085Z"
    },
    "papermill": {
     "duration": 0.165635,
     "end_time": "2023-05-15T08:54:30.720906",
     "exception": false,
     "start_time": "2023-05-15T08:54:30.555271",
     "status": "completed"
    },
    "tags": []
   },
   "outputs": [
    {
     "data": {
      "image/png": "[encoded data removed]",
      "text/plain": [
       "<Figure size 640x480 with 1 Axes>"
      ]
     },
     "metadata": {},
     "output_type": "display_data"
    }
   ],
   "source": [
    "sns.boxplot(df['sepal_width'])\n",
    "plt.show()"
   ]
  },
  {
   "cell_type": "code",
   "execution_count": 9,
   "id": "2844317a",
   "metadata": {
    "execution": {
     "iopub.execute_input": "2023-05-15T08:54:30.746144Z",
     "iopub.status.busy": "2023-05-15T08:54:30.745706Z",
     "iopub.status.idle": "2023-05-15T08:54:30.754972Z",
     "shell.execute_reply": "2023-05-15T08:54:30.753965Z"
    },
    "papermill": {
     "duration": 0.024021,
     "end_time": "2023-05-15T08:54:30.757060",
     "exception": false,
     "start_time": "2023-05-15T08:54:30.733039",
     "status": "completed"
    },
    "tags": []
   },
   "outputs": [
    {
     "data": {
      "text/plain": [
       "array([3.5, 3. , 3.2, 3.1, 3.6, 3.9, 3.4, 2.9, 3.7, 4. , 4.4, 3.8, 3.3,\n",
       "       4.1, 4.2, 2.3, 2.8, 2.4, 2.7, 2. , 2.2, 2.5, 2.6])"
      ]
     },
     "execution_count": 9,
     "metadata": {},
     "output_type": "execute_result"
    }
   ],
   "source": [
    "# In this we can clearly see that the difference in the data what different type of numeric values are present in \"iris\" data set \"sepal_width\"\n",
    "df['sepal_width'].unique()"
   ]
  },
  {
   "cell_type": "code",
   "execution_count": 10,
   "id": "eb7aecd3",
   "metadata": {
    "execution": {
     "iopub.execute_input": "2023-05-15T08:54:30.782623Z",
     "iopub.status.busy": "2023-05-15T08:54:30.781330Z",
     "iopub.status.idle": "2023-05-15T08:54:30.791938Z",
     "shell.execute_reply": "2023-05-15T08:54:30.790919Z"
    },
    "papermill": {
     "duration": 0.025548,
     "end_time": "2023-05-15T08:54:30.794068",
     "exception": false,
     "start_time": "2023-05-15T08:54:30.768520",
     "status": "completed"
    },
    "tags": []
   },
   "outputs": [
    {
     "data": {
      "text/plain": [
       "count    150.000000\n",
       "mean       3.057333\n",
       "std        0.435866\n",
       "min        2.000000\n",
       "25%        2.800000\n",
       "50%        3.000000\n",
       "75%        3.300000\n",
       "max        4.400000\n",
       "Name: sepal_width, dtype: float64"
      ]
     },
     "execution_count": 10,
     "metadata": {},
     "output_type": "execute_result"
    }
   ],
   "source": [
    "df['sepal_width'].describe()"
   ]
  },
  {
   "cell_type": "code",
   "execution_count": 11,
   "id": "50633712",
   "metadata": {
    "execution": {
     "iopub.execute_input": "2023-05-15T08:54:30.819137Z",
     "iopub.status.busy": "2023-05-15T08:54:30.818736Z",
     "iopub.status.idle": "2023-05-15T08:54:30.826249Z",
     "shell.execute_reply": "2023-05-15T08:54:30.825413Z"
    },
    "papermill": {
     "duration": 0.022706,
     "end_time": "2023-05-15T08:54:30.828410",
     "exception": false,
     "start_time": "2023-05-15T08:54:30.805704",
     "status": "completed"
    },
    "tags": []
   },
   "outputs": [],
   "source": [
    "# Calculate the lower and upper quartiles for outlier detection\n",
    "Q1 = df['sepal_width'].quantile(0.25)\n",
    "Q3 = df['sepal_width'].quantile(0.75)"
   ]
  },
  {
   "cell_type": "code",
   "execution_count": 12,
   "id": "bbb61cc9",
   "metadata": {
    "execution": {
     "iopub.execute_input": "2023-05-15T08:54:30.853863Z",
     "iopub.status.busy": "2023-05-15T08:54:30.852911Z",
     "iopub.status.idle": "2023-05-15T08:54:30.868616Z",
     "shell.execute_reply": "2023-05-15T08:54:30.867509Z"
    },
    "papermill": {
     "duration": 0.030707,
     "end_time": "2023-05-15T08:54:30.870804",
     "exception": false,
     "start_time": "2023-05-15T08:54:30.840097",
     "status": "completed"
    },
    "tags": []
   },
   "outputs": [
    {
     "name": "stderr",
     "output_type": "stream",
     "text": [
      "/tmp/ipykernel_20/6892744.py:2: FutureWarning: The default value of numeric_only in DataFrame.corr is deprecated. In a future version, it will default to False. Select only valid columns or specify the value of numeric_only to silence this warning.\n",
      "  df.corr()\n"
     ]
    },
    {
     "data": {
      "text/html": [
       "<div>\n",
       "<style scoped>\n",
       "    .dataframe tbody tr th:only-of-type {\n",
       "        vertical-align: middle;\n",
       "    }\n",
       "\n",
       "    .dataframe tbody tr th {\n",
       "        vertical-align: top;\n",
       "    }\n",
       "\n",
       "    .dataframe thead th {\n",
       "        text-align: right;\n",
       "    }\n",
       "</style>\n",
       "<table border=\"1\" class=\"dataframe\">\n",
       "  <thead>\n",
       "    <tr style=\"text-align: right;\">\n",
       "      <th></th>\n",
       "      <th>sepal_length</th>\n",
       "      <th>sepal_width</th>\n",
       "      <th>petal_length</th>\n",
       "      <th>petal_width</th>\n",
       "    </tr>\n",
       "  </thead>\n",
       "  <tbody>\n",
       "    <tr>\n",
       "      <th>sepal_length</th>\n",
       "      <td>1.000000</td>\n",
       "      <td>-0.117570</td>\n",
       "      <td>0.871754</td>\n",
       "      <td>0.817941</td>\n",
       "    </tr>\n",
       "    <tr>\n",
       "      <th>sepal_width</th>\n",
       "      <td>-0.117570</td>\n",
       "      <td>1.000000</td>\n",
       "      <td>-0.428440</td>\n",
       "      <td>-0.366126</td>\n",
       "    </tr>\n",
       "    <tr>\n",
       "      <th>petal_length</th>\n",
       "      <td>0.871754</td>\n",
       "      <td>-0.428440</td>\n",
       "      <td>1.000000</td>\n",
       "      <td>0.962865</td>\n",
       "    </tr>\n",
       "    <tr>\n",
       "      <th>petal_width</th>\n",
       "      <td>0.817941</td>\n",
       "      <td>-0.366126</td>\n",
       "      <td>0.962865</td>\n",
       "      <td>1.000000</td>\n",
       "    </tr>\n",
       "  </tbody>\n",
       "</table>\n",
       "</div>"
      ],
      "text/plain": [
       "              sepal_length  sepal_width  petal_length  petal_width\n",
       "sepal_length      1.000000    -0.117570      0.871754     0.817941\n",
       "sepal_width      -0.117570     1.000000     -0.428440    -0.366126\n",
       "petal_length      0.871754    -0.428440      1.000000     0.962865\n",
       "petal_width       0.817941    -0.366126      0.962865     1.000000"
      ]
     },
     "execution_count": 12,
     "metadata": {},
     "output_type": "execute_result"
    }
   ],
   "source": [
    "# This will help in knowing the co-relation between each column or Help in knowing the relationship between each column\n",
    "df.corr()"
   ]
  },
  {
   "cell_type": "code",
   "execution_count": 13,
   "id": "5c9ce4a4",
   "metadata": {
    "execution": {
     "iopub.execute_input": "2023-05-15T08:54:30.896584Z",
     "iopub.status.busy": "2023-05-15T08:54:30.895968Z",
     "iopub.status.idle": "2023-05-15T08:54:30.900273Z",
     "shell.execute_reply": "2023-05-15T08:54:30.899495Z"
    },
    "papermill": {
     "duration": 0.019581,
     "end_time": "2023-05-15T08:54:30.902125",
     "exception": false,
     "start_time": "2023-05-15T08:54:30.882544",
     "status": "completed"
    },
    "tags": []
   },
   "outputs": [],
   "source": [
    "# Calculate the interquartile range (IQR)\n",
    "IQR = Q3 - Q1"
   ]
  },
  {
   "cell_type": "code",
   "execution_count": 14,
   "id": "3a01441b",
   "metadata": {
    "execution": {
     "iopub.execute_input": "2023-05-15T08:54:30.928046Z",
     "iopub.status.busy": "2023-05-15T08:54:30.927124Z",
     "iopub.status.idle": "2023-05-15T08:54:30.932142Z",
     "shell.execute_reply": "2023-05-15T08:54:30.931007Z"
    },
    "papermill": {
     "duration": 0.020218,
     "end_time": "2023-05-15T08:54:30.934220",
     "exception": false,
     "start_time": "2023-05-15T08:54:30.914002",
     "status": "completed"
    },
    "tags": []
   },
   "outputs": [],
   "source": [
    "# Define the lower and upper bounds to identify outliers\n",
    "lower_bound = Q1 - 1.5 * IQR\n",
    "upper_bound = Q3 + 1.5 * IQR"
   ]
  },
  {
   "cell_type": "code",
   "execution_count": 15,
   "id": "9e5f834a",
   "metadata": {
    "execution": {
     "iopub.execute_input": "2023-05-15T08:54:30.960041Z",
     "iopub.status.busy": "2023-05-15T08:54:30.959412Z",
     "iopub.status.idle": "2023-05-15T08:54:30.968204Z",
     "shell.execute_reply": "2023-05-15T08:54:30.967382Z"
    },
    "papermill": {
     "duration": 0.024042,
     "end_time": "2023-05-15T08:54:30.970124",
     "exception": false,
     "start_time": "2023-05-15T08:54:30.946082",
     "status": "completed"
    },
    "tags": []
   },
   "outputs": [
    {
     "data": {
      "text/plain": [
       "15    4.4\n",
       "32    4.1\n",
       "33    4.2\n",
       "60    2.0\n",
       "Name: sepal_width, dtype: float64"
      ]
     },
     "execution_count": 15,
     "metadata": {},
     "output_type": "execute_result"
    }
   ],
   "source": [
    "# Identify the outlier values\n",
    "outliers = df[(df['sepal_width'] < lower_bound) | (df['sepal_width'] > upper_bound)]['sepal_width']\n",
    "outliers"
   ]
  },
  {
   "cell_type": "code",
   "execution_count": 16,
   "id": "35f068ee",
   "metadata": {
    "execution": {
     "iopub.execute_input": "2023-05-15T08:54:30.996102Z",
     "iopub.status.busy": "2023-05-15T08:54:30.995488Z",
     "iopub.status.idle": "2023-05-15T08:54:31.001811Z",
     "shell.execute_reply": "2023-05-15T08:54:31.000633Z"
    },
    "papermill": {
     "duration": 0.021707,
     "end_time": "2023-05-15T08:54:31.003720",
     "exception": false,
     "start_time": "2023-05-15T08:54:30.982013",
     "status": "completed"
    },
    "tags": []
   },
   "outputs": [
    {
     "name": "stdout",
     "output_type": "stream",
     "text": [
      "Outlier values:\n",
      "15    4.4\n",
      "32    4.1\n",
      "33    4.2\n",
      "60    2.0\n",
      "Name: sepal_width, dtype: float64\n"
     ]
    }
   ],
   "source": [
    "# Print the outlier values\n",
    "print(\"Outlier values:\")\n",
    "print(outliers)"
   ]
  },
  {
   "cell_type": "code",
   "execution_count": 17,
   "id": "a8ef70fc",
   "metadata": {
    "execution": {
     "iopub.execute_input": "2023-05-15T08:54:31.029488Z",
     "iopub.status.busy": "2023-05-15T08:54:31.028854Z",
     "iopub.status.idle": "2023-05-15T08:54:31.037631Z",
     "shell.execute_reply": "2023-05-15T08:54:31.036640Z"
    },
    "papermill": {
     "duration": 0.024115,
     "end_time": "2023-05-15T08:54:31.039695",
     "exception": false,
     "start_time": "2023-05-15T08:54:31.015580",
     "status": "completed"
    },
    "tags": []
   },
   "outputs": [
    {
     "data": {
      "text/plain": [
       "15    4.4\n",
       "32    4.1\n",
       "33    4.2\n",
       "60    2.0\n",
       "Name: sepal_width, dtype: float64"
      ]
     },
     "execution_count": 17,
     "metadata": {},
     "output_type": "execute_result"
    }
   ],
   "source": [
    "df['sepal_width'].loc[[15,32,33,60]]"
   ]
  },
  {
   "cell_type": "code",
   "execution_count": 18,
   "id": "21194acc",
   "metadata": {
    "execution": {
     "iopub.execute_input": "2023-05-15T08:54:31.066169Z",
     "iopub.status.busy": "2023-05-15T08:54:31.065498Z",
     "iopub.status.idle": "2023-05-15T08:54:31.070617Z",
     "shell.execute_reply": "2023-05-15T08:54:31.069861Z"
    },
    "papermill": {
     "duration": 0.02084,
     "end_time": "2023-05-15T08:54:31.072756",
     "exception": false,
     "start_time": "2023-05-15T08:54:31.051916",
     "status": "completed"
    },
    "tags": []
   },
   "outputs": [],
   "source": [
    "# Now lets check the median of \"sepal_width\"\n",
    "median_value = df['sepal_width'].median()"
   ]
  },
  {
   "cell_type": "code",
   "execution_count": 19,
   "id": "66779221",
   "metadata": {
    "execution": {
     "iopub.execute_input": "2023-05-15T08:54:31.100019Z",
     "iopub.status.busy": "2023-05-15T08:54:31.098995Z",
     "iopub.status.idle": "2023-05-15T08:54:31.105241Z",
     "shell.execute_reply": "2023-05-15T08:54:31.104255Z"
    },
    "papermill": {
     "duration": 0.021832,
     "end_time": "2023-05-15T08:54:31.107265",
     "exception": false,
     "start_time": "2023-05-15T08:54:31.085433",
     "status": "completed"
    },
    "tags": []
   },
   "outputs": [],
   "source": [
    "# Replace the outliers with the median value\n",
    "df.loc[(df['sepal_width'] < lower_bound) | (df['sepal_width'] > upper_bound), 'sepal_width'] = median_value"
   ]
  },
  {
   "cell_type": "code",
   "execution_count": 20,
   "id": "b1c5c0da",
   "metadata": {
    "execution": {
     "iopub.execute_input": "2023-05-15T08:54:31.133130Z",
     "iopub.status.busy": "2023-05-15T08:54:31.132737Z",
     "iopub.status.idle": "2023-05-15T08:54:31.329620Z",
     "shell.execute_reply": "2023-05-15T08:54:31.328399Z"
    },
    "papermill": {
     "duration": 0.212539,
     "end_time": "2023-05-15T08:54:31.332013",
     "exception": false,
     "start_time": "2023-05-15T08:54:31.119474",
     "status": "completed"
    },
    "tags": []
   },
   "outputs": [
    {
     "data": {
      "image/png": "[encoded data removed]",
      "text/plain": [
       "<Figure size 640x480 with 1 Axes>"
      ]
     },
     "metadata": {},
     "output_type": "display_data"
    }
   ],
   "source": [
    "sns.boxplot(df['sepal_width'])\n",
    "plt.title(\"After replacing with median_value\")\n",
    "plt.show()"
   ]
  },
  {
   "cell_type": "markdown",
   "id": "1364b2c4",
   "metadata": {
    "papermill": {
     "duration": 0.01213,
     "end_time": "2023-05-15T08:54:31.356779",
     "exception": false,
     "start_time": "2023-05-15T08:54:31.344649",
     "status": "completed"
    },
    "tags": []
   },
   "source": [
    "## Now lets perform the EDA (Explotary Data Analysis)"
   ]
  },
  {
   "cell_type": "code",
   "execution_count": 21,
   "id": "d95efa51",
   "metadata": {
    "execution": {
     "iopub.execute_input": "2023-05-15T08:54:31.383584Z",
     "iopub.status.busy": "2023-05-15T08:54:31.382791Z",
     "iopub.status.idle": "2023-05-15T08:54:31.389607Z",
     "shell.execute_reply": "2023-05-15T08:54:31.388506Z"
    },
    "papermill": {
     "duration": 0.022593,
     "end_time": "2023-05-15T08:54:31.391702",
     "exception": false,
     "start_time": "2023-05-15T08:54:31.369109",
     "status": "completed"
    },
    "tags": []
   },
   "outputs": [
    {
     "data": {
      "text/plain": [
       "Index(['sepal_length', 'sepal_width', 'petal_length', 'petal_width',\n",
       "       'species'],\n",
       "      dtype='object')"
      ]
     },
     "execution_count": 21,
     "metadata": {},
     "output_type": "execute_result"
    }
   ],
   "source": [
    "df.columns"
   ]
  },
  {
   "cell_type": "code",
   "execution_count": 22,
   "id": "d1f0ef27",
   "metadata": {
    "execution": {
     "iopub.execute_input": "2023-05-15T08:54:31.419399Z",
     "iopub.status.busy": "2023-05-15T08:54:31.418769Z",
     "iopub.status.idle": "2023-05-15T08:54:31.624534Z",
     "shell.execute_reply": "2023-05-15T08:54:31.623308Z"
    },
    "papermill": {
     "duration": 0.222238,
     "end_time": "2023-05-15T08:54:31.626919",
     "exception": false,
     "start_time": "2023-05-15T08:54:31.404681",
     "status": "completed"
    },
    "tags": []
   },
   "outputs": [
    {
     "data": {
      "text/plain": [
       "<AxesSubplot: ylabel='count'>"
      ]
     },
     "execution_count": 22,
     "metadata": {},
     "output_type": "execute_result"
    },
    {
     "data": {
      "image/png": "[encoded data removed]",
      "text/plain": [
       "<Figure size 640x480 with 1 Axes>"
      ]
     },
     "metadata": {},
     "output_type": "display_data"
    }
   ],
   "source": [
    "sns.countplot(df[['sepal_length','sepal_width','petal_length','petal_width']])"
   ]
  },
  {
   "cell_type": "code",
   "execution_count": 23,
   "id": "5d49ae4d",
   "metadata": {
    "execution": {
     "iopub.execute_input": "2023-05-15T08:54:31.654244Z",
     "iopub.status.busy": "2023-05-15T08:54:31.653868Z",
     "iopub.status.idle": "2023-05-15T08:54:31.847701Z",
     "shell.execute_reply": "2023-05-15T08:54:31.846620Z"
    },
    "papermill": {
     "duration": 0.210153,
     "end_time": "2023-05-15T08:54:31.849962",
     "exception": false,
     "start_time": "2023-05-15T08:54:31.639809",
     "status": "completed"
    },
    "tags": []
   },
   "outputs": [
    {
     "data": {
      "image/png": "[encoded data removed]",
      "text/plain": [
       "<Figure size 640x480 with 1 Axes>"
      ]
     },
     "metadata": {},
     "output_type": "display_data"
    }
   ],
   "source": [
    "plt.hist(df['sepal_length'])\n",
    "plt.show()"
   ]
  },
  {
   "cell_type": "code",
   "execution_count": 24,
   "id": "4f92bcf3",
   "metadata": {
    "execution": {
     "iopub.execute_input": "2023-05-15T08:54:31.877502Z",
     "iopub.status.busy": "2023-05-15T08:54:31.877082Z",
     "iopub.status.idle": "2023-05-15T08:54:32.089163Z",
     "shell.execute_reply": "2023-05-15T08:54:32.088382Z"
    },
    "papermill": {
     "duration": 0.228339,
     "end_time": "2023-05-15T08:54:32.091280",
     "exception": false,
     "start_time": "2023-05-15T08:54:31.862941",
     "status": "completed"
    },
    "tags": []
   },
   "outputs": [
    {
     "data": {
      "image/png": "[encoded data removed]",
      "text/plain": [
       "<Figure size 640x480 with 1 Axes>"
      ]
     },
     "metadata": {},
     "output_type": "display_data"
    }
   ],
   "source": [
    "plt.plot(df['sepal_width'])\n",
    "plt.show()"
   ]
  },
  {
   "cell_type": "code",
   "execution_count": 25,
   "id": "e35cdbfb",
   "metadata": {
    "execution": {
     "iopub.execute_input": "2023-05-15T08:54:32.121590Z",
     "iopub.status.busy": "2023-05-15T08:54:32.120963Z",
     "iopub.status.idle": "2023-05-15T08:54:32.490314Z",
     "shell.execute_reply": "2023-05-15T08:54:32.489136Z"
    },
    "papermill": {
     "duration": 0.387452,
     "end_time": "2023-05-15T08:54:32.492961",
     "exception": false,
     "start_time": "2023-05-15T08:54:32.105509",
     "status": "completed"
    },
    "tags": []
   },
   "outputs": [
    {
     "data": {
      "image/png": "[encoded data removed]",
      "text/plain": [
       "<Figure size 640x480 with 1 Axes>"
      ]
     },
     "metadata": {},
     "output_type": "display_data"
    }
   ],
   "source": [
    "sns.scatterplot(x=df['petal_length'],y=df['petal_width'],hue=df['petal_width'])\n",
    "plt.show()"
   ]
  },
  {
   "cell_type": "code",
   "execution_count": 26,
   "id": "410486d8",
   "metadata": {
    "execution": {
     "iopub.execute_input": "2023-05-15T08:54:32.524457Z",
     "iopub.status.busy": "2023-05-15T08:54:32.524048Z",
     "iopub.status.idle": "2023-05-15T08:54:32.902631Z",
     "shell.execute_reply": "2023-05-15T08:54:32.901775Z"
    },
    "papermill": {
     "duration": 0.396405,
     "end_time": "2023-05-15T08:54:32.904498",
     "exception": false,
     "start_time": "2023-05-15T08:54:32.508093",
     "status": "completed"
    },
    "tags": []
   },
   "outputs": [
    {
     "data": {
      "image/png": "[encoded data removed]",
      "text/plain": [
       "<Figure size 640x480 with 1 Axes>"
      ]
     },
     "metadata": {},
     "output_type": "display_data"
    }
   ],
   "source": [
    "sns.scatterplot(x=df['sepal_length'],y=df['sepal_width'],hue=df['sepal_width'])\n",
    "plt.show()"
   ]
  },
  {
   "cell_type": "code",
   "execution_count": 27,
   "id": "3b080b94",
   "metadata": {
    "execution": {
     "iopub.execute_input": "2023-05-15T08:54:32.936804Z",
     "iopub.status.busy": "2023-05-15T08:54:32.936203Z",
     "iopub.status.idle": "2023-05-15T08:54:33.230557Z",
     "shell.execute_reply": "2023-05-15T08:54:33.229470Z"
    },
    "papermill": {
     "duration": 0.313346,
     "end_time": "2023-05-15T08:54:33.232919",
     "exception": false,
     "start_time": "2023-05-15T08:54:32.919573",
     "status": "completed"
    },
    "tags": []
   },
   "outputs": [
    {
     "data": {
      "image/png": "[encoded data removed]",
      "text/plain": [
       "<Figure size 640x480 with 1 Axes>"
      ]
     },
     "metadata": {},
     "output_type": "display_data"
    }
   ],
   "source": [
    "sns.scatterplot(x=\"sepal_length\",y=\"petal_length\",data=df,hue='species')\n",
    "plt.show()"
   ]
  },
  {
   "cell_type": "code",
   "execution_count": 28,
   "id": "21310f2e",
   "metadata": {
    "execution": {
     "iopub.execute_input": "2023-05-15T08:54:33.267945Z",
     "iopub.status.busy": "2023-05-15T08:54:33.266700Z",
     "iopub.status.idle": "2023-05-15T08:54:33.638590Z",
     "shell.execute_reply": "2023-05-15T08:54:33.637390Z"
    },
    "papermill": {
     "duration": 0.391734,
     "end_time": "2023-05-15T08:54:33.640698",
     "exception": false,
     "start_time": "2023-05-15T08:54:33.248964",
     "status": "completed"
    },
    "tags": []
   },
   "outputs": [
    {
     "data": {
      "image/png": "[encoded data removed]",
      "text/plain": [
       "<Figure size 640x480 with 2 Axes>"
      ]
     },
     "metadata": {},
     "output_type": "display_data"
    }
   ],
   "source": [
    "sns.heatmap(df.iloc[:,0:4])\n",
    "plt.show()"
   ]
  },
  {
   "cell_type": "code",
   "execution_count": 29,
   "id": "12f6d652",
   "metadata": {
    "execution": {
     "iopub.execute_input": "2023-05-15T08:54:33.675251Z",
     "iopub.status.busy": "2023-05-15T08:54:33.674535Z",
     "iopub.status.idle": "2023-05-15T08:54:33.925886Z",
     "shell.execute_reply": "2023-05-15T08:54:33.924806Z"
    },
    "papermill": {
     "duration": 0.271138,
     "end_time": "2023-05-15T08:54:33.928296",
     "exception": false,
     "start_time": "2023-05-15T08:54:33.657158",
     "status": "completed"
    },
    "tags": []
   },
   "outputs": [
    {
     "name": "stderr",
     "output_type": "stream",
     "text": [
      "/tmp/ipykernel_20/729757500.py:1: UserWarning: \n",
      "\n",
      "`distplot` is a deprecated function and will be removed in seaborn v0.14.0.\n",
      "\n",
      "Please adapt your code to use either `displot` (a figure-level function with\n",
      "similar flexibility) or `histplot` (an axes-level function for histograms).\n",
      "\n",
      "For a guide to updating your code to use the new functions, please see\n",
      "https://gist.github.com/mwaskom/de44147ed2974457ad6372750bbe5751\n",
      "\n",
      "  sns.distplot(df.iloc[:,0:4])\n"
     ]
    },
    {
     "data": {
      "text/plain": [
       "<AxesSubplot: ylabel='Density'>"
      ]
     },
     "execution_count": 29,
     "metadata": {},
     "output_type": "execute_result"
    },
    {
     "data": {
      "image/png": "[encoded data removed]",
      "text/plain": [
       "<Figure size 640x480 with 1 Axes>"
      ]
     },
     "metadata": {},
     "output_type": "display_data"
    }
   ],
   "source": [
    "sns.distplot(df.iloc[:,0:4])"
   ]
  },
  {
   "cell_type": "markdown",
   "id": "191ccaab",
   "metadata": {
    "papermill": {
     "duration": 0.016711,
     "end_time": "2023-05-15T08:54:33.962118",
     "exception": false,
     "start_time": "2023-05-15T08:54:33.945407",
     "status": "completed"
    },
    "tags": []
   },
   "source": [
    "## It does not required any logrithmic function "
   ]
  },
  {
   "cell_type": "markdown",
   "id": "bd8831c7",
   "metadata": {
    "papermill": {
     "duration": 0.016578,
     "end_time": "2023-05-15T08:54:33.995576",
     "exception": false,
     "start_time": "2023-05-15T08:54:33.978998",
     "status": "completed"
    },
    "tags": []
   },
   "source": [
    "## Now lets perform the Machine Learning operation's"
   ]
  },
  {
   "cell_type": "code",
   "execution_count": 30,
   "id": "09f36c98",
   "metadata": {
    "execution": {
     "iopub.execute_input": "2023-05-15T08:54:34.032160Z",
     "iopub.status.busy": "2023-05-15T08:54:34.031156Z",
     "iopub.status.idle": "2023-05-15T08:54:34.045572Z",
     "shell.execute_reply": "2023-05-15T08:54:34.044674Z"
    },
    "papermill": {
     "duration": 0.035439,
     "end_time": "2023-05-15T08:54:34.047730",
     "exception": false,
     "start_time": "2023-05-15T08:54:34.012291",
     "status": "completed"
    },
    "tags": []
   },
   "outputs": [
    {
     "data": {
      "text/html": [
       "<div>\n",
       "<style scoped>\n",
       "    .dataframe tbody tr th:only-of-type {\n",
       "        vertical-align: middle;\n",
       "    }\n",
       "\n",
       "    .dataframe tbody tr th {\n",
       "        vertical-align: top;\n",
       "    }\n",
       "\n",
       "    .dataframe thead th {\n",
       "        text-align: right;\n",
       "    }\n",
       "</style>\n",
       "<table border=\"1\" class=\"dataframe\">\n",
       "  <thead>\n",
       "    <tr style=\"text-align: right;\">\n",
       "      <th></th>\n",
       "      <th>sepal_length</th>\n",
       "      <th>sepal_width</th>\n",
       "      <th>petal_length</th>\n",
       "      <th>petal_width</th>\n",
       "      <th>species</th>\n",
       "    </tr>\n",
       "  </thead>\n",
       "  <tbody>\n",
       "    <tr>\n",
       "      <th>0</th>\n",
       "      <td>5.1</td>\n",
       "      <td>3.5</td>\n",
       "      <td>1.4</td>\n",
       "      <td>0.2</td>\n",
       "      <td>setosa</td>\n",
       "    </tr>\n",
       "    <tr>\n",
       "      <th>1</th>\n",
       "      <td>4.9</td>\n",
       "      <td>3.0</td>\n",
       "      <td>1.4</td>\n",
       "      <td>0.2</td>\n",
       "      <td>setosa</td>\n",
       "    </tr>\n",
       "    <tr>\n",
       "      <th>2</th>\n",
       "      <td>4.7</td>\n",
       "      <td>3.2</td>\n",
       "      <td>1.3</td>\n",
       "      <td>0.2</td>\n",
       "      <td>setosa</td>\n",
       "    </tr>\n",
       "    <tr>\n",
       "      <th>3</th>\n",
       "      <td>4.6</td>\n",
       "      <td>3.1</td>\n",
       "      <td>1.5</td>\n",
       "      <td>0.2</td>\n",
       "      <td>setosa</td>\n",
       "    </tr>\n",
       "    <tr>\n",
       "      <th>4</th>\n",
       "      <td>5.0</td>\n",
       "      <td>3.6</td>\n",
       "      <td>1.4</td>\n",
       "      <td>0.2</td>\n",
       "      <td>setosa</td>\n",
       "    </tr>\n",
       "  </tbody>\n",
       "</table>\n",
       "</div>"
      ],
      "text/plain": [
       "   sepal_length  sepal_width  petal_length  petal_width species\n",
       "0           5.1          3.5           1.4          0.2  setosa\n",
       "1           4.9          3.0           1.4          0.2  setosa\n",
       "2           4.7          3.2           1.3          0.2  setosa\n",
       "3           4.6          3.1           1.5          0.2  setosa\n",
       "4           5.0          3.6           1.4          0.2  setosa"
      ]
     },
     "execution_count": 30,
     "metadata": {},
     "output_type": "execute_result"
    }
   ],
   "source": [
    "df.head()"
   ]
  },
  {
   "cell_type": "code",
   "execution_count": 31,
   "id": "d5b0f0d8",
   "metadata": {
    "execution": {
     "iopub.execute_input": "2023-05-15T08:54:34.085123Z",
     "iopub.status.busy": "2023-05-15T08:54:34.083827Z",
     "iopub.status.idle": "2023-05-15T08:54:34.089954Z",
     "shell.execute_reply": "2023-05-15T08:54:34.088904Z"
    },
    "papermill": {
     "duration": 0.027412,
     "end_time": "2023-05-15T08:54:34.092239",
     "exception": false,
     "start_time": "2023-05-15T08:54:34.064827",
     "status": "completed"
    },
    "tags": []
   },
   "outputs": [],
   "source": [
    "# Now lets divide the column's differently\n",
    "x = df.iloc[:,0:4]\n",
    "y = df['species']"
   ]
  },
  {
   "cell_type": "code",
   "execution_count": 32,
   "id": "2d51022d",
   "metadata": {
    "execution": {
     "iopub.execute_input": "2023-05-15T08:54:34.128215Z",
     "iopub.status.busy": "2023-05-15T08:54:34.127830Z",
     "iopub.status.idle": "2023-05-15T08:54:34.548216Z",
     "shell.execute_reply": "2023-05-15T08:54:34.547196Z"
    },
    "papermill": {
     "duration": 0.441147,
     "end_time": "2023-05-15T08:54:34.550739",
     "exception": false,
     "start_time": "2023-05-15T08:54:34.109592",
     "status": "completed"
    },
    "tags": []
   },
   "outputs": [],
   "source": [
    "from sklearn.model_selection import train_test_split"
   ]
  },
  {
   "cell_type": "code",
   "execution_count": 33,
   "id": "a268c9fe",
   "metadata": {
    "execution": {
     "iopub.execute_input": "2023-05-15T08:54:34.587447Z",
     "iopub.status.busy": "2023-05-15T08:54:34.586995Z",
     "iopub.status.idle": "2023-05-15T08:54:34.593952Z",
     "shell.execute_reply": "2023-05-15T08:54:34.593155Z"
    },
    "papermill": {
     "duration": 0.027664,
     "end_time": "2023-05-15T08:54:34.595905",
     "exception": false,
     "start_time": "2023-05-15T08:54:34.568241",
     "status": "completed"
    },
    "tags": []
   },
   "outputs": [],
   "source": [
    "# In this we are assigning the 30% of the data for training purposes\n",
    "x_train,x_test,y_train,y_test = train_test_split(x,y,test_size=0.3,random_state=42)"
   ]
  },
  {
   "cell_type": "code",
   "execution_count": 34,
   "id": "46d89c32",
   "metadata": {
    "execution": {
     "iopub.execute_input": "2023-05-15T08:54:34.633224Z",
     "iopub.status.busy": "2023-05-15T08:54:34.632530Z",
     "iopub.status.idle": "2023-05-15T08:54:34.646004Z",
     "shell.execute_reply": "2023-05-15T08:54:34.645262Z"
    },
    "papermill": {
     "duration": 0.03464,
     "end_time": "2023-05-15T08:54:34.647811",
     "exception": false,
     "start_time": "2023-05-15T08:54:34.613171",
     "status": "completed"
    },
    "tags": []
   },
   "outputs": [
    {
     "data": {
      "text/html": [
       "<div>\n",
       "<style scoped>\n",
       "    .dataframe tbody tr th:only-of-type {\n",
       "        vertical-align: middle;\n",
       "    }\n",
       "\n",
       "    .dataframe tbody tr th {\n",
       "        vertical-align: top;\n",
       "    }\n",
       "\n",
       "    .dataframe thead th {\n",
       "        text-align: right;\n",
       "    }\n",
       "</style>\n",
       "<table border=\"1\" class=\"dataframe\">\n",
       "  <thead>\n",
       "    <tr style=\"text-align: right;\">\n",
       "      <th></th>\n",
       "      <th>sepal_length</th>\n",
       "      <th>sepal_width</th>\n",
       "      <th>petal_length</th>\n",
       "      <th>petal_width</th>\n",
       "    </tr>\n",
       "  </thead>\n",
       "  <tbody>\n",
       "    <tr>\n",
       "      <th>81</th>\n",
       "      <td>5.5</td>\n",
       "      <td>2.4</td>\n",
       "      <td>3.7</td>\n",
       "      <td>1.0</td>\n",
       "    </tr>\n",
       "    <tr>\n",
       "      <th>133</th>\n",
       "      <td>6.3</td>\n",
       "      <td>2.8</td>\n",
       "      <td>5.1</td>\n",
       "      <td>1.5</td>\n",
       "    </tr>\n",
       "    <tr>\n",
       "      <th>137</th>\n",
       "      <td>6.4</td>\n",
       "      <td>3.1</td>\n",
       "      <td>5.5</td>\n",
       "      <td>1.8</td>\n",
       "    </tr>\n",
       "    <tr>\n",
       "      <th>75</th>\n",
       "      <td>6.6</td>\n",
       "      <td>3.0</td>\n",
       "      <td>4.4</td>\n",
       "      <td>1.4</td>\n",
       "    </tr>\n",
       "    <tr>\n",
       "      <th>109</th>\n",
       "      <td>7.2</td>\n",
       "      <td>3.6</td>\n",
       "      <td>6.1</td>\n",
       "      <td>2.5</td>\n",
       "    </tr>\n",
       "  </tbody>\n",
       "</table>\n",
       "</div>"
      ],
      "text/plain": [
       "     sepal_length  sepal_width  petal_length  petal_width\n",
       "81            5.5          2.4           3.7          1.0\n",
       "133           6.3          2.8           5.1          1.5\n",
       "137           6.4          3.1           5.5          1.8\n",
       "75            6.6          3.0           4.4          1.4\n",
       "109           7.2          3.6           6.1          2.5"
      ]
     },
     "execution_count": 34,
     "metadata": {},
     "output_type": "execute_result"
    }
   ],
   "source": [
    "x_train.head()"
   ]
  },
  {
   "cell_type": "code",
   "execution_count": 35,
   "id": "53d9bb97",
   "metadata": {
    "execution": {
     "iopub.execute_input": "2023-05-15T08:54:34.684605Z",
     "iopub.status.busy": "2023-05-15T08:54:34.684175Z",
     "iopub.status.idle": "2023-05-15T08:54:34.691390Z",
     "shell.execute_reply": "2023-05-15T08:54:34.690664Z"
    },
    "papermill": {
     "duration": 0.027866,
     "end_time": "2023-05-15T08:54:34.693262",
     "exception": false,
     "start_time": "2023-05-15T08:54:34.665396",
     "status": "completed"
    },
    "tags": []
   },
   "outputs": [
    {
     "data": {
      "text/plain": [
       "73     versicolor\n",
       "18         setosa\n",
       "118     virginica\n",
       "78     versicolor\n",
       "76     versicolor\n",
       "Name: species, dtype: object"
      ]
     },
     "execution_count": 35,
     "metadata": {},
     "output_type": "execute_result"
    }
   ],
   "source": [
    "y_test.head()"
   ]
  },
  {
   "cell_type": "markdown",
   "id": "da7a06e9",
   "metadata": {
    "papermill": {
     "duration": 0.017029,
     "end_time": "2023-05-15T08:54:34.727668",
     "exception": false,
     "start_time": "2023-05-15T08:54:34.710639",
     "status": "completed"
    },
    "tags": []
   },
   "source": [
    "## Now lets perform Feature Engineering operations"
   ]
  },
  {
   "cell_type": "code",
   "execution_count": 36,
   "id": "8df0b5ba",
   "metadata": {
    "execution": {
     "iopub.execute_input": "2023-05-15T08:54:34.765004Z",
     "iopub.status.busy": "2023-05-15T08:54:34.763861Z",
     "iopub.status.idle": "2023-05-15T08:54:34.768893Z",
     "shell.execute_reply": "2023-05-15T08:54:34.768004Z"
    },
    "papermill": {
     "duration": 0.025873,
     "end_time": "2023-05-15T08:54:34.770800",
     "exception": false,
     "start_time": "2023-05-15T08:54:34.744927",
     "status": "completed"
    },
    "tags": []
   },
   "outputs": [],
   "source": [
    "from sklearn.preprocessing import StandardScaler"
   ]
  },
  {
   "cell_type": "code",
   "execution_count": 37,
   "id": "86742dc8",
   "metadata": {
    "execution": {
     "iopub.execute_input": "2023-05-15T08:54:34.807496Z",
     "iopub.status.busy": "2023-05-15T08:54:34.806859Z",
     "iopub.status.idle": "2023-05-15T08:54:34.811712Z",
     "shell.execute_reply": "2023-05-15T08:54:34.810606Z"
    },
    "papermill": {
     "duration": 0.025796,
     "end_time": "2023-05-15T08:54:34.814051",
     "exception": false,
     "start_time": "2023-05-15T08:54:34.788255",
     "status": "completed"
    },
    "tags": []
   },
   "outputs": [],
   "source": [
    "# Create an instance of StandardScaler\n",
    "scaler = StandardScaler()"
   ]
  },
  {
   "cell_type": "code",
   "execution_count": 38,
   "id": "bd22e0ed",
   "metadata": {
    "execution": {
     "iopub.execute_input": "2023-05-15T08:54:34.851394Z",
     "iopub.status.busy": "2023-05-15T08:54:34.850361Z",
     "iopub.status.idle": "2023-05-15T08:54:34.860028Z",
     "shell.execute_reply": "2023-05-15T08:54:34.859293Z"
    },
    "papermill": {
     "duration": 0.030247,
     "end_time": "2023-05-15T08:54:34.862011",
     "exception": false,
     "start_time": "2023-05-15T08:54:34.831764",
     "status": "completed"
    },
    "tags": []
   },
   "outputs": [],
   "source": [
    "# Fit the scaler on the training data\n",
    "scaler.fit(x_train)\n",
    "\n",
    "# Apply the scaler to transform the training and test data\n",
    "x_train_scaled = scaler.transform(x_train)\n",
    "x_test_scaled = scaler.transform(x_test)"
   ]
  },
  {
   "cell_type": "markdown",
   "id": "b314938c",
   "metadata": {
    "papermill": {
     "duration": 0.017488,
     "end_time": "2023-05-15T08:54:34.896777",
     "exception": false,
     "start_time": "2023-05-15T08:54:34.879289",
     "status": "completed"
    },
    "tags": []
   },
   "source": [
    "## Now lets perform the ML operation's"
   ]
  },
  {
   "cell_type": "code",
   "execution_count": 39,
   "id": "1208f8a6",
   "metadata": {
    "execution": {
     "iopub.execute_input": "2023-05-15T08:54:34.933857Z",
     "iopub.status.busy": "2023-05-15T08:54:34.933203Z",
     "iopub.status.idle": "2023-05-15T08:54:35.021555Z",
     "shell.execute_reply": "2023-05-15T08:54:35.020650Z"
    },
    "papermill": {
     "duration": 0.110016,
     "end_time": "2023-05-15T08:54:35.024109",
     "exception": false,
     "start_time": "2023-05-15T08:54:34.914093",
     "status": "completed"
    },
    "tags": []
   },
   "outputs": [],
   "source": [
    "from sklearn.linear_model import LogisticRegression"
   ]
  },
  {
   "cell_type": "code",
   "execution_count": 40,
   "id": "49471009",
   "metadata": {
    "execution": {
     "iopub.execute_input": "2023-05-15T08:54:35.060786Z",
     "iopub.status.busy": "2023-05-15T08:54:35.060398Z",
     "iopub.status.idle": "2023-05-15T08:54:35.083254Z",
     "shell.execute_reply": "2023-05-15T08:54:35.082243Z"
    },
    "papermill": {
     "duration": 0.043479,
     "end_time": "2023-05-15T08:54:35.085479",
     "exception": false,
     "start_time": "2023-05-15T08:54:35.042000",
     "status": "completed"
    },
    "tags": []
   },
   "outputs": [
    {
     "data": {
      "text/html": [
       "<style>#sk-container-id-1 {color: black;background-color: white;}#sk-container-id-1 pre{padding: 0;}#sk-container-id-1 div.sk-toggleable {background-color: white;}#sk-container-id-1 label.sk-toggleable__label {cursor: pointer;display: block;width: 100%;margin-bottom: 0;padding: 0.3em;box-sizing: border-box;text-align: center;}#sk-container-id-1 label.sk-toggleable__label-arrow:before {content: \"▸\";float: left;margin-right: 0.25em;color: #696969;}#sk-container-id-1 label.sk-toggleable__label-arrow:hover:before {color: black;}#sk-container-id-1 div.sk-estimator:hover label.sk-toggleable__label-arrow:before {color: black;}#sk-container-id-1 div.sk-toggleable__content {max-height: 0;max-width: 0;overflow: hidden;text-align: left;background-color: #f0f8ff;}#sk-container-id-1 div.sk-toggleable__content pre {margin: 0.2em;color: black;border-radius: 0.25em;background-color: #f0f8ff;}#sk-container-id-1 input.sk-toggleable__control:checked~div.sk-toggleable__content {max-height: 200px;max-width: 100%;overflow: auto;}#sk-container-id-1 input.sk-toggleable__control:checked~label.sk-toggleable__label-arrow:before {content: \"▾\";}#sk-container-id-1 div.sk-estimator input.sk-toggleable__control:checked~label.sk-toggleable__label {background-color: #d4ebff;}#sk-container-id-1 div.sk-label input.sk-toggleable__control:checked~label.sk-toggleable__label {background-color: #d4ebff;}#sk-container-id-1 input.sk-hidden--visually {border: 0;clip: rect(1px 1px 1px 1px);clip: rect(1px, 1px, 1px, 1px);height: 1px;margin: -1px;overflow: hidden;padding: 0;position: absolute;width: 1px;}#sk-container-id-1 div.sk-estimator {font-family: monospace;background-color: #f0f8ff;border: 1px dotted black;border-radius: 0.25em;box-sizing: border-box;margin-bottom: 0.5em;}#sk-container-id-1 div.sk-estimator:hover {background-color: #d4ebff;}#sk-container-id-1 div.sk-parallel-item::after {content: \"\";width: 100%;border-bottom: 1px solid gray;flex-grow: 1;}#sk-container-id-1 div.sk-label:hover label.sk-toggleable__label {background-color: #d4ebff;}#sk-container-id-1 div.sk-serial::before {content: \"\";position: absolute;border-left: 1px solid gray;box-sizing: border-box;top: 0;bottom: 0;left: 50%;z-index: 0;}#sk-container-id-1 div.sk-serial {display: flex;flex-direction: column;align-items: center;background-color: white;padding-right: 0.2em;padding-left: 0.2em;position: relative;}#sk-container-id-1 div.sk-item {position: relative;z-index: 1;}#sk-container-id-1 div.sk-parallel {display: flex;align-items: stretch;justify-content: center;background-color: white;position: relative;}#sk-container-id-1 div.sk-item::before, #sk-container-id-1 div.sk-parallel-item::before {content: \"\";position: absolute;border-left: 1px solid gray;box-sizing: border-box;top: 0;bottom: 0;left: 50%;z-index: -1;}#sk-container-id-1 div.sk-parallel-item {display: flex;flex-direction: column;z-index: 1;position: relative;background-color: white;}#sk-container-id-1 div.sk-parallel-item:first-child::after {align-self: flex-end;width: 50%;}#sk-container-id-1 div.sk-parallel-item:last-child::after {align-self: flex-start;width: 50%;}#sk-container-id-1 div.sk-parallel-item:only-child::after {width: 0;}#sk-container-id-1 div.sk-dashed-wrapped {border: 1px dashed gray;margin: 0 0.4em 0.5em 0.4em;box-sizing: border-box;padding-bottom: 0.4em;background-color: white;}#sk-container-id-1 div.sk-label label {font-family: monospace;font-weight: bold;display: inline-block;line-height: 1.2em;}#sk-container-id-1 div.sk-label-container {text-align: center;}#sk-container-id-1 div.sk-container {/* jupyter's `normalize.less` sets `[hidden] { display: none; }` but bootstrap.min.css set `[hidden] { display: none !important; }` so we also need the `!important` here to be able to override the default hidden behavior on the sphinx rendered scikit-learn.org. See: https://github.com/scikit-learn/scikit-learn/issues/21755 */display: inline-block !important;position: relative;}#sk-container-id-1 div.sk-text-repr-fallback {display: none;}</style><div id=\"sk-container-id-1\" class=\"sk-top-container\"><div class=\"sk-text-repr-fallback\"><pre>LogisticRegression()</pre><b>In a Jupyter environment, please rerun this cell to show the HTML representation or trust the notebook. <br />On GitHub, the HTML representation is unable to render, please try loading this page with nbviewer.org.</b></div><div class=\"sk-container\" hidden><div class=\"sk-item\"><div class=\"sk-estimator sk-toggleable\"><input class=\"sk-toggleable__control sk-hidden--visually\" id=\"sk-estimator-id-1\" type=\"checkbox\" checked><label for=\"sk-estimator-id-1\" class=\"sk-toggleable__label sk-toggleable__label-arrow\">LogisticRegression</label><div class=\"sk-toggleable__content\"><pre>LogisticRegression()</pre></div></div></div></div></div>"
      ],
      "text/plain": [
       "LogisticRegression()"
      ]
     },
     "execution_count": 40,
     "metadata": {},
     "output_type": "execute_result"
    }
   ],
   "source": [
    "model = LogisticRegression()\n",
    "model.fit(x_train_scaled,y_train)"
   ]
  },
  {
   "cell_type": "markdown",
   "id": "cceb7eef",
   "metadata": {
    "papermill": {
     "duration": 0.01787,
     "end_time": "2023-05-15T08:54:35.121576",
     "exception": false,
     "start_time": "2023-05-15T08:54:35.103706",
     "status": "completed"
    },
    "tags": []
   },
   "source": [
    "## Make prediction on the Test Data"
   ]
  },
  {
   "cell_type": "code",
   "execution_count": 41,
   "id": "f3adf0cc",
   "metadata": {
    "execution": {
     "iopub.execute_input": "2023-05-15T08:54:35.159664Z",
     "iopub.status.busy": "2023-05-15T08:54:35.158873Z",
     "iopub.status.idle": "2023-05-15T08:54:35.165168Z",
     "shell.execute_reply": "2023-05-15T08:54:35.164482Z"
    },
    "papermill": {
     "duration": 0.027464,
     "end_time": "2023-05-15T08:54:35.167042",
     "exception": false,
     "start_time": "2023-05-15T08:54:35.139578",
     "status": "completed"
    },
    "tags": []
   },
   "outputs": [
    {
     "data": {
      "text/plain": [
       "array(['versicolor', 'setosa', 'virginica', 'versicolor', 'versicolor',\n",
       "       'setosa', 'versicolor', 'virginica', 'versicolor', 'versicolor',\n",
       "       'virginica', 'setosa', 'setosa', 'setosa', 'setosa', 'versicolor',\n",
       "       'virginica', 'versicolor', 'versicolor', 'virginica', 'setosa',\n",
       "       'virginica', 'setosa', 'virginica', 'virginica', 'virginica',\n",
       "       'virginica', 'virginica', 'setosa', 'setosa', 'setosa', 'setosa',\n",
       "       'versicolor', 'setosa', 'setosa', 'virginica', 'versicolor',\n",
       "       'setosa', 'setosa', 'setosa', 'virginica', 'versicolor',\n",
       "       'versicolor', 'setosa', 'setosa'], dtype=object)"
      ]
     },
     "execution_count": 41,
     "metadata": {},
     "output_type": "execute_result"
    }
   ],
   "source": [
    "y_pred = model.predict(x_test_scaled)\n",
    "y_pred"
   ]
  },
  {
   "cell_type": "markdown",
   "id": "0529e56f",
   "metadata": {
    "papermill": {
     "duration": 0.018003,
     "end_time": "2023-05-15T08:54:35.203792",
     "exception": false,
     "start_time": "2023-05-15T08:54:35.185789",
     "status": "completed"
    },
    "tags": []
   },
   "source": [
    "## Now lets check the accuracy of the model"
   ]
  },
  {
   "cell_type": "code",
   "execution_count": 42,
   "id": "9d6054c9",
   "metadata": {
    "execution": {
     "iopub.execute_input": "2023-05-15T08:54:35.242319Z",
     "iopub.status.busy": "2023-05-15T08:54:35.241550Z",
     "iopub.status.idle": "2023-05-15T08:54:35.246081Z",
     "shell.execute_reply": "2023-05-15T08:54:35.245352Z"
    },
    "papermill": {
     "duration": 0.025892,
     "end_time": "2023-05-15T08:54:35.248017",
     "exception": false,
     "start_time": "2023-05-15T08:54:35.222125",
     "status": "completed"
    },
    "tags": []
   },
   "outputs": [],
   "source": [
    "from sklearn.metrics import accuracy_score"
   ]
  },
  {
   "cell_type": "code",
   "execution_count": 43,
   "id": "7a4b21d4",
   "metadata": {
    "execution": {
     "iopub.execute_input": "2023-05-15T08:54:35.286833Z",
     "iopub.status.busy": "2023-05-15T08:54:35.286149Z",
     "iopub.status.idle": "2023-05-15T08:54:35.293038Z",
     "shell.execute_reply": "2023-05-15T08:54:35.291906Z"
    },
    "papermill": {
     "duration": 0.028672,
     "end_time": "2023-05-15T08:54:35.295064",
     "exception": false,
     "start_time": "2023-05-15T08:54:35.266392",
     "status": "completed"
    },
    "tags": []
   },
   "outputs": [
    {
     "name": "stdout",
     "output_type": "stream",
     "text": [
      "Accuracy: 1.0\n"
     ]
    }
   ],
   "source": [
    "accuracy = accuracy_score(y_test, y_pred)\n",
    "print(\"Accuracy:\", accuracy)"
   ]
  },
  {
   "cell_type": "markdown",
   "id": "008ad7c2",
   "metadata": {
    "papermill": {
     "duration": 0.018399,
     "end_time": "2023-05-15T08:54:35.331947",
     "exception": false,
     "start_time": "2023-05-15T08:54:35.313548",
     "status": "completed"
    },
    "tags": []
   },
   "source": [
    "## Now lets check the cross val score"
   ]
  },
  {
   "cell_type": "code",
   "execution_count": 44,
   "id": "5e2b10f2",
   "metadata": {
    "execution": {
     "iopub.execute_input": "2023-05-15T08:54:35.371054Z",
     "iopub.status.busy": "2023-05-15T08:54:35.370359Z",
     "iopub.status.idle": "2023-05-15T08:54:35.415469Z",
     "shell.execute_reply": "2023-05-15T08:54:35.413929Z"
    },
    "papermill": {
     "duration": 0.067635,
     "end_time": "2023-05-15T08:54:35.417775",
     "exception": false,
     "start_time": "2023-05-15T08:54:35.350140",
     "status": "completed"
    },
    "tags": []
   },
   "outputs": [
    {
     "name": "stdout",
     "output_type": "stream",
     "text": [
      "Cross-validated Accuracy Scores: [0.95238095 0.9047619  0.95238095 1.         0.95238095]\n",
      "Mean Accuracy: 0.9523809523809523\n"
     ]
    }
   ],
   "source": [
    "from sklearn.model_selection import cross_val_score\n",
    "\n",
    "# Create a logistic regression model\n",
    "logreg = LogisticRegression()\n",
    "\n",
    "# Perform cross-validation and calculate accuracy\n",
    "scores = cross_val_score(logreg, x_train_scaled, y_train, cv=5, scoring='accuracy')\n",
    "\n",
    "# Print the accuracy scores for each fold\n",
    "print(\"Cross-validated Accuracy Scores:\", scores)\n",
    "\n",
    "# Calculate the mean accuracy score\n",
    "mean_accuracy = scores.mean()\n",
    "print(\"Mean Accuracy:\", mean_accuracy)"
   ]
  }
 ],
 "metadata": {
  "kernelspec": {
   "display_name": "Python 3",
   "language": "python",
   "name": "python3"
  },
  "language_info": {
   "codemirror_mode": {
    "name": "ipython",
    "version": 3
   },
   "file_extension": ".py",
   "mimetype": "text/x-python",
   "name": "python",
   "nbconvert_exporter": "python",
   "pygments_lexer": "ipython3",
   "version": "3.10.10"
  },
  "papermill": {
   "default_parameters": {},
   "duration": 18.037879,
   "end_time": "2023-05-15T08:54:36.358389",
   "environment_variables": {},
   "exception": null,
   "input_path": "__notebook__.ipynb",
   "output_path": "__notebook__.ipynb",
   "parameters": {},
   "start_time": "2023-05-15T08:54:18.320510",
   "version": "2.4.0"
  }
 },
 "nbformat": 4,
 "nbformat_minor": 5
}
